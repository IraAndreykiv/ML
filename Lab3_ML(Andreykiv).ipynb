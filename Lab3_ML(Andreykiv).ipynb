{
  "nbformat": 4,
  "nbformat_minor": 0,
  "metadata": {
    "colab": {
      "name": "Lab3 ML(Andreykiv).ipynb",
      "provenance": [],
      "collapsed_sections": [],
      "authorship_tag": "ABX9TyPFpFrl1HZEIqDyPKS/B94d",
      "include_colab_link": true
    },
    "kernelspec": {
      "name": "python3",
      "display_name": "Python 3"
    },
    "language_info": {
      "name": "python"
    }
  },
  "cells": [
    {
      "cell_type": "markdown",
      "metadata": {
        "id": "view-in-github",
        "colab_type": "text"
      },
      "source": [
        "<a href=\"https://colab.research.google.com/github/IraAndreykiv/ML/blob/main/Lab3_ML(Andreykiv).ipynb\" target=\"_parent\"><img src=\"https://colab.research.google.com/assets/colab-badge.svg\" alt=\"Open In Colab\"/></a>"
      ]
    },
    {
      "cell_type": "code",
      "execution_count": null,
      "metadata": {
        "colab": {
          "resources": {
            "http://localhost:8080/nbextensions/google.colab/files.js": {
              "data": "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",
              "ok": true,
              "headers": [
                [
                  "content-type",
                  "application/javascript"
                ]
              ],
              "status": 200,
              "status_text": ""
            }
          },
          "base_uri": "https://localhost:8080/",
          "height": 109
        },
        "id": "k44CCtvrZHD7",
        "outputId": "62300c8d-0a7a-4918-e391-9015e82116fd"
      },
      "outputs": [
        {
          "output_type": "display_data",
          "data": {
            "text/plain": [
              "<IPython.core.display.HTML object>"
            ],
            "text/html": [
              "\n",
              "     <input type=\"file\" id=\"files-9d568693-b4e4-4e69-a53a-cd3f4ffc21a8\" name=\"files[]\" multiple disabled\n",
              "        style=\"border:none\" />\n",
              "     <output id=\"result-9d568693-b4e4-4e69-a53a-cd3f4ffc21a8\">\n",
              "      Upload widget is only available when the cell has been executed in the\n",
              "      current browser session. Please rerun this cell to enable.\n",
              "      </output>\n",
              "      <script src=\"/nbextensions/google.colab/files.js\"></script> "
            ]
          },
          "metadata": {}
        },
        {
          "output_type": "stream",
          "name": "stdout",
          "text": [
            "Saving employees.csv to employees.csv\n",
            "Saving nba.csv to nba.csv\n"
          ]
        }
      ],
      "source": [
        "from google.colab import files\n",
        "uploaded = files.upload()"
      ]
    },
    {
      "cell_type": "code",
      "source": [
        "import pandas as pd\n",
        "import numpy as np\n",
        "import matplotlib.pyplot as plt"
      ],
      "metadata": {
        "id": "VmGDeQ9NZxUb"
      },
      "execution_count": null,
      "outputs": []
    },
    {
      "cell_type": "code",
      "source": [
        "df_employee = pd.read_csv (\"employees.csv\")\n",
        "df_employee.info"
      ],
      "metadata": {
        "colab": {
          "base_uri": "https://localhost:8080/"
        },
        "id": "7uLbVD7jZz_a",
        "outputId": "01bc503a-b5dc-4dd9-f51e-4cc1b3fc4093"
      },
      "execution_count": null,
      "outputs": [
        {
          "output_type": "execute_result",
          "data": {
            "text/plain": [
              "<bound method DataFrame.info of     First Name  Gender  Start Date Last Login Time  Salary  Bonus %  \\\n",
              "0      Douglas    Male    8/6/1993        12:42 PM   97308    6.945   \n",
              "1       Thomas    Male   3/31/1996         6:53 AM   61933    4.170   \n",
              "2        Maria  Female   4/23/1993        11:17 AM  130590   11.858   \n",
              "3        Jerry    Male    3/4/2005         1:00 PM  138705    9.340   \n",
              "4        Larry    Male   1/24/1998         4:47 PM  101004    1.389   \n",
              "..         ...     ...         ...             ...     ...      ...   \n",
              "995      Henry     NaN  11/23/2014         6:09 AM  132483   16.655   \n",
              "996    Phillip    Male   1/31/1984         6:30 AM   42392   19.675   \n",
              "997    Russell    Male   5/20/2013        12:39 PM   96914    1.421   \n",
              "998      Larry    Male   4/20/2013         4:45 PM   60500   11.985   \n",
              "999     Albert    Male   5/15/2012         6:24 PM  129949   10.169   \n",
              "\n",
              "    Senior Management                  Team  \n",
              "0                True             Marketing  \n",
              "1                True                   NaN  \n",
              "2               False               Finance  \n",
              "3                True               Finance  \n",
              "4                True       Client Services  \n",
              "..                ...                   ...  \n",
              "995             False          Distribution  \n",
              "996             False               Finance  \n",
              "997             False               Product  \n",
              "998             False  Business Development  \n",
              "999              True                 Sales  \n",
              "\n",
              "[1000 rows x 8 columns]>"
            ]
          },
          "metadata": {},
          "execution_count": 14
        }
      ]
    },
    {
      "cell_type": "code",
      "source": [
        "df_nba = pd.read_csv(\"nba.csv\")\n",
        "df_nba.info()"
      ],
      "metadata": {
        "colab": {
          "base_uri": "https://localhost:8080/"
        },
        "id": "EG_32ATPZ4-p",
        "outputId": "1235673e-6d24-479f-85ea-3bc55a1bb2a8"
      },
      "execution_count": null,
      "outputs": [
        {
          "output_type": "stream",
          "name": "stdout",
          "text": [
            "<class 'pandas.core.frame.DataFrame'>\n",
            "RangeIndex: 458 entries, 0 to 457\n",
            "Data columns (total 9 columns):\n",
            " #   Column    Non-Null Count  Dtype  \n",
            "---  ------    --------------  -----  \n",
            " 0   Name      457 non-null    object \n",
            " 1   Team      457 non-null    object \n",
            " 2   Number    457 non-null    float64\n",
            " 3   Position  457 non-null    object \n",
            " 4   Age       457 non-null    float64\n",
            " 5   Height    457 non-null    object \n",
            " 6   Weight    457 non-null    float64\n",
            " 7   College   373 non-null    object \n",
            " 8   Salary    446 non-null    float64\n",
            "dtypes: float64(4), object(5)\n",
            "memory usage: 32.3+ KB\n"
          ]
        }
      ]
    },
    {
      "cell_type": "code",
      "source": [
        "print(df_employee.isna().sum())\n",
        "df_employee.dropna(axis=0, inplace=True)\n",
        "print(df_employee.isna().sum())"
      ],
      "metadata": {
        "colab": {
          "base_uri": "https://localhost:8080/"
        },
        "id": "H7YNH0zhZ8Kf",
        "outputId": "864f8226-3a20-459d-fd4d-d4820be258f3"
      },
      "execution_count": null,
      "outputs": [
        {
          "output_type": "stream",
          "name": "stdout",
          "text": [
            "First Name            67\n",
            "Gender               145\n",
            "Start Date             0\n",
            "Last Login Time        0\n",
            "Salary                 0\n",
            "Bonus %                0\n",
            "Senior Management     67\n",
            "Team                  43\n",
            "dtype: int64\n",
            "First Name           0\n",
            "Gender               0\n",
            "Start Date           0\n",
            "Last Login Time      0\n",
            "Salary               0\n",
            "Bonus %              0\n",
            "Senior Management    0\n",
            "Team                 0\n",
            "dtype: int64\n"
          ]
        }
      ]
    },
    {
      "cell_type": "code",
      "source": [
        "print(df_nba.isna().sum())\n",
        "df_nba.dropna(axis=0, inplace=True)\n",
        "print(df_nba.isna().sum())"
      ],
      "metadata": {
        "colab": {
          "base_uri": "https://localhost:8080/"
        },
        "id": "Lv6F_dT-aA_e",
        "outputId": "8521250b-4947-44f8-dbfa-ea33be5c87bd"
      },
      "execution_count": null,
      "outputs": [
        {
          "output_type": "stream",
          "name": "stdout",
          "text": [
            "Name         1\n",
            "Team         1\n",
            "Number       1\n",
            "Position     1\n",
            "Age          1\n",
            "Height       1\n",
            "Weight       1\n",
            "College     85\n",
            "Salary      12\n",
            "dtype: int64\n",
            "Name        0\n",
            "Team        0\n",
            "Number      0\n",
            "Position    0\n",
            "Age         0\n",
            "Height      0\n",
            "Weight      0\n",
            "College     0\n",
            "Salary      0\n",
            "dtype: int64\n"
          ]
        }
      ]
    },
    {
      "cell_type": "code",
      "source": [
        "print(df_nba.head())\n",
        "df_nba['Weight'] = round(df_nba['Weight'] * 0.45359237, 2)\n",
        "\n",
        "import re\n",
        "df_nba[\"ft\"] = 0\n",
        "df_nba['in'] = 0\n",
        "for i in range(len(df_nba['Height'])):\n",
        "  m_ft = re.search(r\"[1-9]*-\", df_nba['Height'].iloc[i])\n",
        "  df_nba['ft'].iloc[i] = int(m_ft.group()[:-1])\n",
        "  m_in = re.search(r\"-[1-9]*\", df_nba['Height'].iloc[i])\n",
        "  if m_in.group()[1:].isdigit():\n",
        "    df_nba['in'].iloc[i] = int(m_in.group()[1:])\n",
        "  else:\n",
        "    df_nba['in'].iloc[i] = 0\n",
        "\n",
        "df_nba['Height'] = round((df_nba['ft'] * 0.3048) + (df_nba['in'] * 0.0254), 2) \n",
        "del df_nba['ft'], df_nba['in']\n",
        "print(df_nba.head())"
      ],
      "metadata": {
        "colab": {
          "base_uri": "https://localhost:8080/"
        },
        "id": "a35lPpslaHwm",
        "outputId": "12b1b480-2d4d-48e2-b48e-d7719bf1091c"
      },
      "execution_count": null,
      "outputs": [
        {
          "output_type": "stream",
          "name": "stdout",
          "text": [
            "            Name            Team  Number Position   Age Height  Weight  \\\n",
            "0  Avery Bradley  Boston Celtics     0.0       PG  25.0    6-2   180.0   \n",
            "1    Jae Crowder  Boston Celtics    99.0       SF  25.0    6-6   235.0   \n",
            "3    R.J. Hunter  Boston Celtics    28.0       SG  22.0    6-5   185.0   \n",
            "6  Jordan Mickey  Boston Celtics    55.0       PF  21.0    6-8   235.0   \n",
            "7   Kelly Olynyk  Boston Celtics    41.0        C  25.0    7-0   238.0   \n",
            "\n",
            "         College     Salary  \n",
            "0          Texas  7730337.0  \n",
            "1      Marquette  6796117.0  \n",
            "3  Georgia State  1148640.0  \n",
            "6            LSU  1170960.0  \n",
            "7        Gonzaga  2165160.0  \n"
          ]
        },
        {
          "output_type": "stream",
          "name": "stderr",
          "text": [
            "/usr/local/lib/python3.7/dist-packages/pandas/core/indexing.py:1732: SettingWithCopyWarning: \n",
            "A value is trying to be set on a copy of a slice from a DataFrame\n",
            "\n",
            "See the caveats in the documentation: https://pandas.pydata.org/pandas-docs/stable/user_guide/indexing.html#returning-a-view-versus-a-copy\n",
            "  self._setitem_single_block(indexer, value, name)\n"
          ]
        },
        {
          "output_type": "stream",
          "name": "stdout",
          "text": [
            "            Name            Team  Number Position   Age  Height  Weight  \\\n",
            "0  Avery Bradley  Boston Celtics     0.0       PG  25.0    1.88   81.65   \n",
            "1    Jae Crowder  Boston Celtics    99.0       SF  25.0    1.98  106.59   \n",
            "3    R.J. Hunter  Boston Celtics    28.0       SG  22.0    1.96   83.91   \n",
            "6  Jordan Mickey  Boston Celtics    55.0       PF  21.0    2.03  106.59   \n",
            "7   Kelly Olynyk  Boston Celtics    41.0        C  25.0    2.13  107.95   \n",
            "\n",
            "         College     Salary  \n",
            "0          Texas  7730337.0  \n",
            "1      Marquette  6796117.0  \n",
            "3  Georgia State  1148640.0  \n",
            "6            LSU  1170960.0  \n",
            "7        Gonzaga  2165160.0  \n"
          ]
        }
      ]
    },
    {
      "cell_type": "code",
      "source": [
        "print(df_employee.groupby(['Gender', 'Team'])['Salary'].mean())\n",
        "df_employee.groupby(['Gender', 'Team'])['Salary'].mean().unstack(level=0).plot(kind='barh')\n",
        "plt.xlabel(\"Salary ($)\", fontsize=20)\n",
        "plt.ylabel(\"Team\", fontsize=20)\n",
        "plt.legend(loc = 2)\n",
        "\n",
        "print(df_employee.groupby(['Team'])['Salary'].min())\n",
        "print(df_employee.groupby(['Team'])['Salary'].max())\n",
        "\n",
        "df_employee.groupby(['Team']).agg({'Salary': [np.min,np.max]}).\\\n",
        "plot.barh(stacked=True)\n",
        "plt.axvline(df_employee['Salary'].mean(), color='red', linewidth=2)\n",
        "plt.xlabel(\"Min and Max salary ($)\", fontsize=20)\n",
        "plt.ylabel(\"Team\", fontsize=20)\n",
        "plt.legend(['Average','Min', 'Max'])\n",
        "df_employee.groupby(['Team', 'Senior Management'])['Salary'].agg(lambda x:x.value_counts().index[0])"
      ],
      "metadata": {
        "colab": {
          "base_uri": "https://localhost:8080/",
          "height": 1000
        },
        "id": "nI46CFKQaPhw",
        "outputId": "ff6a2f8e-a73f-4298-a6de-65ae045f27af"
      },
      "execution_count": null,
      "outputs": [
        {
          "output_type": "stream",
          "name": "stdout",
          "text": [
            "Gender  Team                \n",
            "Female  Business Development    92645.020408\n",
            "        Client Services         85742.723404\n",
            "        Distribution            79812.161290\n",
            "        Engineering             89708.139535\n",
            "        Finance                 93483.333333\n",
            "        Human Resources         89835.878788\n",
            "        Legal                   91749.242424\n",
            "        Marketing               97116.555556\n",
            "        Product                 86333.704545\n",
            "        Sales                   90055.628571\n",
            "Male    Business Development    87851.000000\n",
            "        Client Services         93781.789474\n",
            "        Distribution            92302.379310\n",
            "        Engineering             99937.027778\n",
            "        Finance                 95663.842105\n",
            "        Human Resources         92149.976744\n",
            "        Legal                   84491.882353\n",
            "        Marketing               84745.947368\n",
            "        Product                 87615.435897\n",
            "        Sales                   93303.783784\n",
            "Name: Salary, dtype: float64\n",
            "Team\n",
            "Business Development    36844\n",
            "Client Services         35095\n",
            "Distribution            35575\n",
            "Engineering             36946\n",
            "Finance                 35381\n",
            "Human Resources         35203\n",
            "Legal                   35061\n",
            "Marketing               36643\n",
            "Product                 35013\n",
            "Sales                   35802\n",
            "Name: Salary, dtype: int64\n",
            "Team\n",
            "Business Development    147417\n",
            "Client Services         147183\n",
            "Distribution            149105\n",
            "Engineering             147362\n",
            "Finance                 149908\n",
            "Human Resources         149903\n",
            "Legal                   148985\n",
            "Marketing               146812\n",
            "Product                 149684\n",
            "Sales                   144887\n",
            "Name: Salary, dtype: int64\n"
          ]
        },
        {
          "output_type": "execute_result",
          "data": {
            "text/plain": [
              "Team                  Senior Management\n",
              "Business Development  False                119082\n",
              "                      True                 139852\n",
              "Client Services       False                132940\n",
              "                      True                 101004\n",
              "Distribution          False                 95327\n",
              "                      True                  99283\n",
              "Engineering           False                 83677\n",
              "                      True                  95570\n",
              "Finance               False                130590\n",
              "                      True                 138705\n",
              "Human Resources       False                 90370\n",
              "                      True                 112807\n",
              "Legal                 False                115163\n",
              "                      True                 102508\n",
              "Marketing             False                100612\n",
              "                      True                  97308\n",
              "Product               False                 59414\n",
              "                      True                  65476\n",
              "Sales                 False                109831\n",
              "                      True                  88010\n",
              "Name: Salary, dtype: int64"
            ]
          },
          "metadata": {},
          "execution_count": 8
        },
        {
          "output_type": "display_data",
          "data": {
            "text/plain": [
              "<Figure size 432x288 with 1 Axes>"
            ],
            "image/png": "[encoded data removed]"
          },
          "metadata": {
            "needs_background": "light"
          }
        },
        {
          "output_type": "display_data",
          "data": {
            "text/plain": [
              "<Figure size 432x288 with 1 Axes>"
            ],
            "image/png": "[encoded data removed]"
          },
          "metadata": {
            "needs_background": "light"
          }
        }
      ]
    },
    {
      "cell_type": "code",
      "source": [
        "print(df_nba.groupby(['Position'])[\"Age\" ,\"Height\", 'Weight'].mean())\n",
        "print(df_nba.groupby(['Position'])['Salary'].max())\n",
        "print(df_nba.groupby(['Position'])['Salary'].min())\n",
        "print(df_nba.groupby(['Position'])['Salary'].median())"
      ],
      "metadata": {
        "colab": {
          "base_uri": "https://localhost:8080/"
        },
        "id": "GSkqYVlQaW8D",
        "outputId": "425d51ff-6537-4574-d664-75d17e6ea6b9"
      },
      "execution_count": null,
      "outputs": [
        {
          "output_type": "stream",
          "name": "stdout",
          "text": [
            "                Age    Height      Weight\n",
            "Position                                 \n",
            "C         26.857143  2.071020  114.739388\n",
            "PF        26.679012  2.011975  108.615556\n",
            "PG        26.750000  1.888421   86.308026\n",
            "SF        26.732394  2.010141  100.582254\n",
            "SG        26.206897  1.969540   93.877356\n",
            "Position\n",
            "C     19689000.0\n",
            "PF    22192730.0\n",
            "PG    21468695.0\n",
            "SF    22875000.0\n",
            "SG    20000000.0\n",
            "Name: Salary, dtype: float64\n",
            "Position\n",
            "C      83397.0\n",
            "PF    111444.0\n",
            "PG     55722.0\n",
            "SF    200600.0\n",
            "SG     55722.0\n",
            "Name: Salary, dtype: float64\n",
            "Position\n",
            "C     3398280.0\n",
            "PF    2850000.0\n",
            "PG    2927470.0\n",
            "SF    2000000.0\n",
            "SG    1500000.0\n",
            "Name: Salary, dtype: float64\n"
          ]
        },
        {
          "output_type": "stream",
          "name": "stderr",
          "text": [
            "/usr/local/lib/python3.7/dist-packages/ipykernel_launcher.py:1: FutureWarning: Indexing with multiple keys (implicitly converted to a tuple of keys) will be deprecated, use a list instead.\n",
            "  \"\"\"Entry point for launching an IPython kernel.\n"
          ]
        }
      ]
    },
    {
      "cell_type": "code",
      "source": [
        "df_nba.groupby(['Position']).agg({'Salary': [np.min,np.max]}).\\\n",
        "plot.barh(stacked=True)\n",
        "plt.axvline(df_nba['Salary'].mean(), color='red', linewidth=2)\n",
        "# plt.axvline(df_nba['Salary'].median(), color='black', linewidth=2)\n",
        "\n",
        "plt.xlabel(\"Min and Max salary ($)\", fontsize=20)\n",
        "plt.ylabel(\"Position\", fontsize=20)\n",
        "plt.legend(['Average','Min', 'Max'])\n",
        "plt.xlim([0, 25000000])"
      ],
      "metadata": {
        "colab": {
          "base_uri": "https://localhost:8080/",
          "height": 307
        },
        "id": "jDrBM5F_aeND",
        "outputId": "c1cfab1a-4edd-4cb8-a260-ebf95c9caccc"
      },
      "execution_count": null,
      "outputs": [
        {
          "output_type": "execute_result",
          "data": {
            "text/plain": [
              "(0.0, 25000000.0)"
            ]
          },
          "metadata": {},
          "execution_count": 10
        },
        {
          "output_type": "display_data",
          "data": {
            "text/plain": [
              "<Figure size 432x288 with 1 Axes>"
            ],
            "image/png": "[encoded data removed]"
          },
          "metadata": {
            "needs_background": "light"
          }
        }
      ]
    },
    {
      "cell_type": "code",
      "source": [
        "mean_salary_team = df_nba.groupby(['Team'], as_index=False)['Salary'].mean()\n",
        "mean_salary_team.sort_values(by = ['Salary'], ascending=False, inplace = True)\n",
        "top5_mean_salary_team = mean_salary_team.head()\n",
        "plt.barh(top5_mean_salary_team['Team'], top5_mean_salary_team['Salary'],\\\n",
        "         color = 'steelblue')\n",
        "plt.title('Top 5 teams with the biggest average player salary', size = 20)\n",
        "plt.xlabel(\"Average salary $\", fontsize=15)\n",
        "plt.ylabel(\"Team\", fontsize=15)"
      ],
      "metadata": {
        "colab": {
          "base_uri": "https://localhost:8080/",
          "height": 324
        },
        "id": "MnkD9g5OaiBx",
        "outputId": "208934d2-771d-4b65-884a-eb3da6c53812"
      },
      "execution_count": null,
      "outputs": [
        {
          "output_type": "execute_result",
          "data": {
            "text/plain": [
              "Text(0, 0.5, 'Team')"
            ]
          },
          "metadata": {},
          "execution_count": 15
        },
        {
          "output_type": "display_data",
          "data": {
            "text/plain": [
              "<Figure size 432x288 with 1 Axes>"
            ],
            "image/png": "[encoded data removed]"
          },
          "metadata": {
            "needs_background": "light"
          }
        }
      ]
    },
    {
      "cell_type": "code",
      "source": [
        "df_employee.to_csv('employee_update.csv')\n",
        "files.download('employee_update.csv')\n",
        "df_nba.to_csv('nba_update.csv')\n",
        "files.download('nba_update.csv')"
      ],
      "metadata": {
        "colab": {
          "base_uri": "https://localhost:8080/",
          "height": 17
        },
        "id": "kzYBeT19alGI",
        "outputId": "35d58729-1c54-4ed6-f651-3ca0ddf1edd8"
      },
      "execution_count": null,
      "outputs": [
        {
          "output_type": "display_data",
          "data": {
            "text/plain": [
              "<IPython.core.display.Javascript object>"
            ],
            "application/javascript": [
              "\n",
              "    async function download(id, filename, size) {\n",
              "      if (!google.colab.kernel.accessAllowed) {\n",
              "        return;\n",
              "      }\n",
              "      const div = document.createElement('div');\n",
              "      const label = document.createElement('label');\n",
              "      label.textContent = `Downloading \"${filename}\": `;\n",
              "      div.appendChild(label);\n",
              "      const progress = document.createElement('progress');\n",
              "      progress.max = size;\n",
              "      div.appendChild(progress);\n",
              "      document.body.appendChild(div);\n",
              "\n",
              "      const buffers = [];\n",
              "      let downloaded = 0;\n",
              "\n",
              "      const channel = await google.colab.kernel.comms.open(id);\n",
              "      // Send a message to notify the kernel that we're ready.\n",
              "      channel.send({})\n",
              "\n",
              "      for await (const message of channel.messages) {\n",
              "        // Send a message to notify the kernel that we're ready.\n",
              "        channel.send({})\n",
              "        if (message.buffers) {\n",
              "          for (const buffer of message.buffers) {\n",
              "            buffers.push(buffer);\n",
              "            downloaded += buffer.byteLength;\n",
              "            progress.value = downloaded;\n",
              "          }\n",
              "        }\n",
              "      }\n",
              "      const blob = new Blob(buffers, {type: 'application/binary'});\n",
              "      const a = document.createElement('a');\n",
              "      a.href = window.URL.createObjectURL(blob);\n",
              "      a.download = filename;\n",
              "      div.appendChild(a);\n",
              "      a.click();\n",
              "      div.remove();\n",
              "    }\n",
              "  "
            ]
          },
          "metadata": {}
        },
        {
          "output_type": "display_data",
          "data": {
            "text/plain": [
              "<IPython.core.display.Javascript object>"
            ],
            "application/javascript": [
              "download(\"download_87d5b762-adbc-40ae-9c8a-a65f20a2515b\", \"employee_update.csv\", 49753)"
            ]
          },
          "metadata": {}
        },
        {
          "output_type": "display_data",
          "data": {
            "text/plain": [
              "<IPython.core.display.Javascript object>"
            ],
            "application/javascript": [
              "\n",
              "    async function download(id, filename, size) {\n",
              "      if (!google.colab.kernel.accessAllowed) {\n",
              "        return;\n",
              "      }\n",
              "      const div = document.createElement('div');\n",
              "      const label = document.createElement('label');\n",
              "      label.textContent = `Downloading \"${filename}\": `;\n",
              "      div.appendChild(label);\n",
              "      const progress = document.createElement('progress');\n",
              "      progress.max = size;\n",
              "      div.appendChild(progress);\n",
              "      document.body.appendChild(div);\n",
              "\n",
              "      const buffers = [];\n",
              "      let downloaded = 0;\n",
              "\n",
              "      const channel = await google.colab.kernel.comms.open(id);\n",
              "      // Send a message to notify the kernel that we're ready.\n",
              "      channel.send({})\n",
              "\n",
              "      for await (const message of channel.messages) {\n",
              "        // Send a message to notify the kernel that we're ready.\n",
              "        channel.send({})\n",
              "        if (message.buffers) {\n",
              "          for (const buffer of message.buffers) {\n",
              "            buffers.push(buffer);\n",
              "            downloaded += buffer.byteLength;\n",
              "            progress.value = downloaded;\n",
              "          }\n",
              "        }\n",
              "      }\n",
              "      const blob = new Blob(buffers, {type: 'application/binary'});\n",
              "      const a = document.createElement('a');\n",
              "      a.href = window.URL.createObjectURL(blob);\n",
              "      a.download = filename;\n",
              "      div.appendChild(a);\n",
              "      a.click();\n",
              "      div.remove();\n",
              "    }\n",
              "  "
            ]
          },
          "metadata": {}
        },
        {
          "output_type": "display_data",
          "data": {
            "text/plain": [
              "<IPython.core.display.Javascript object>"
            ],
            "application/javascript": [
              "download(\"download_a0b2041d-cfd7-4767-b100-131a49a25aa8\", \"nba_update.csv\", 28635)"
            ]
          },
          "metadata": {}
        }
      ]
    },
    {
      "cell_type": "code",
      "source": [
        "df1  = pd.DataFrame({\n",
        "    \"city\": [\"Lutsk\", \"Lviv\", \"Odessa\", \"Kyiv\"],\n",
        "    \"temperature\": [25, 14, 30, 24],\n",
        "})\n",
        "print(df1)\n",
        "df2 = pd.DataFrame({\n",
        "    \"city\": [\"Lutsk\", \"Lviv\", \"Donetsk\"],\n",
        "    \"humidity\": [65, 68, 69],\n",
        "})\n",
        "print(df2)\n",
        "df3 = pd.merge(df1, df2)\n",
        "print(df3)\n",
        "df4 = pd.merge(df1, df2, how = 'left')\n",
        "print(df4)\n",
        "df5 = pd.merge(df1, df2, how = 'right')\n",
        "print(df5)\n",
        "df6 = pd.merge(df1, df2, how = 'outer')\n",
        "print(df6)"
      ],
      "metadata": {
        "colab": {
          "base_uri": "https://localhost:8080/"
        },
        "id": "gjbSpH4ratGq",
        "outputId": "8c9daad2-324b-4d49-bb4f-a534edcc7a41"
      },
      "execution_count": null,
      "outputs": [
        {
          "output_type": "stream",
          "name": "stdout",
          "text": [
            "     city  temperature\n",
            "0   Lutsk           25\n",
            "1    Lviv           14\n",
            "2  Odessa           30\n",
            "3    Kyiv           24\n",
            "      city  humidity\n",
            "0    Lutsk        65\n",
            "1     Lviv        68\n",
            "2  Donetsk        69\n",
            "    city  temperature  humidity\n",
            "0  Lutsk           25        65\n",
            "1   Lviv           14        68\n",
            "     city  temperature  humidity\n",
            "0   Lutsk           25      65.0\n",
            "1    Lviv           14      68.0\n",
            "2  Odessa           30       NaN\n",
            "3    Kyiv           24       NaN\n",
            "      city  temperature  humidity\n",
            "0    Lutsk         25.0        65\n",
            "1     Lviv         14.0        68\n",
            "2  Donetsk          NaN        69\n",
            "      city  temperature  humidity\n",
            "0    Lutsk         25.0      65.0\n",
            "1     Lviv         14.0      68.0\n",
            "2   Odessa         30.0       NaN\n",
            "3     Kyiv         24.0       NaN\n",
            "4  Donetsk          NaN      69.0\n"
          ]
        }
      ]
    },
    {
      "cell_type": "code",
      "source": [
        ""
      ],
      "metadata": {
        "id": "sPSMBRPAaxsQ"
      },
      "execution_count": null,
      "outputs": []
    }
  ]
}