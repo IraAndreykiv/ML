{
  "nbformat": 4,
  "nbformat_minor": 0,
  "metadata": {
    "colab": {
      "name": "Lab1 ML(Andreykiv).ipynb",
      "provenance": [],
      "collapsed_sections": [],
      "authorship_tag": "ABX9TyODCUcYxXRxxJxpPG/8Jlrw",
      "include_colab_link": true
    },
    "kernelspec": {
      "name": "python3",
      "display_name": "Python 3"
    },
    "language_info": {
      "name": "python"
    }
  },
  "cells": [
    {
      "cell_type": "markdown",
      "metadata": {
        "id": "view-in-github",
        "colab_type": "text"
      },
      "source": [
        "<a href=\"https://colab.research.google.com/github/IraAndreykiv/ML/blob/main/Lab1_ML(Andreykiv).ipynb\" target=\"_parent\"><img src=\"https://colab.research.google.com/assets/colab-badge.svg\" alt=\"Open In Colab\"/></a>"
      ]
    },
    {
      "cell_type": "code",
      "source": [
        "import random\n",
        "from sklearn.cluster import KMeans\n",
        "import matplotlib.pyplot as plt"
      ],
      "metadata": {
        "id": "Xlci-kFTVgrv"
      },
      "execution_count": null,
      "outputs": []
    },
    {
      "cell_type": "code",
      "source": [
        "x = [random.randint(1, 100) for _ in range(50)]\n",
        "y = [random.randint(1, 100) for _ in range(50)]\n",
        "xy = []\n",
        "for i in range(len(x)):\n",
        "  xy.append([x[i], y[i]])\n",
        "print(xy)"
      ],
      "metadata": {
        "colab": {
          "base_uri": "https://localhost:8080/"
        },
        "id": "GuCt19LtWCGt",
        "outputId": "a25c4310-eaa5-4eba-e023-0cc79feb8104"
      },
      "execution_count": null,
      "outputs": [
        {
          "output_type": "stream",
          "name": "stdout",
          "text": [
            "[[85, 17], [20, 5], [48, 54], [48, 95], [7, 55], [63, 19], [33, 26], [52, 13], [69, 17], [96, 87], [3, 93], [44, 57], [72, 79], [72, 29], [47, 78], [24, 30], [53, 80], [81, 21], [59, 97], [12, 69], [48, 56], [71, 79], [21, 27], [2, 41], [52, 60], [10, 55], [50, 23], [13, 63], [75, 27], [26, 86], [25, 9], [55, 20], [13, 96], [10, 14], [8, 79], [94, 82], [88, 19], [39, 74], [27, 19], [58, 25], [1, 82], [41, 26], [76, 78], [57, 29], [8, 87], [45, 12], [4, 29], [10, 94], [81, 22], [34, 61]]\n"
          ]
        }
      ]
    },
    {
      "cell_type": "code",
      "source": [
        "kmeans = KMeans(3)\n",
        "\n",
        "identified_clusters = kmeans.fit_predict(xy)\n",
        "identified_clusters"
      ],
      "metadata": {
        "colab": {
          "base_uri": "https://localhost:8080/"
        },
        "id": "w5QnJwdXXBMU",
        "outputId": "b8131a15-a766-445a-aa19-e2d9eb2a102e"
      },
      "execution_count": null,
      "outputs": [
        {
          "output_type": "execute_result",
          "data": {
            "text/plain": [
              "array([0, 0, 2, 2, 1, 0, 0, 0, 0, 2, 1, 2, 2, 0, 2, 0, 2, 0, 2, 1, 2, 2,\n",
              "       0, 1, 2, 1, 0, 1, 0, 1, 0, 0, 1, 0, 1, 2, 0, 2, 0, 0, 1, 0, 2, 0,\n",
              "       1, 0, 1, 1, 0, 1], dtype=int32)"
            ]
          },
          "metadata": {},
          "execution_count": 3
        }
      ]
    },
    {
      "cell_type": "code",
      "source": [
        "def AverageValue(array):\n",
        "  x = 0\n",
        "  for i in array:\n",
        "    x += i\n",
        "  return x / len(array)"
      ],
      "metadata": {
        "id": "A-FovqQwXnGP"
      },
      "execution_count": null,
      "outputs": []
    },
    {
      "cell_type": "code",
      "source": [
        "dataX = {'0':[],\n",
        "         '1':[],\n",
        "         '2':[]}\n",
        "dataY = {'0':[],\n",
        "         '1':[],\n",
        "         '2':[]}\n",
        "j = 0\n",
        "for i in identified_clusters:\n",
        "  dataX[str(i)].append(x[j])\n",
        "  dataY[str(i)].append(y[j])\n",
        "  j += 1"
      ],
      "metadata": {
        "id": "fK6BBGeFYPkN"
      },
      "execution_count": null,
      "outputs": []
    },
    {
      "cell_type": "code",
      "source": [
        "plt.scatter(AverageValue(dataX['0']), AverageValue(dataY['0']))\n",
        "plt.scatter(AverageValue(dataX['1']), AverageValue(dataY['1']))\n",
        "plt.scatter(AverageValue(dataX['2']), AverageValue(dataY['2']))\n",
        "plt.scatter(x, y,c=identified_clusters,cmap='rainbow')"
      ],
      "metadata": {
        "colab": {
          "base_uri": "https://localhost:8080/",
          "height": 284
        },
        "id": "4udKsnrtYSuo",
        "outputId": "c599ac2d-6cb9-4ef1-9556-ada30fd2f517"
      },
      "execution_count": null,
      "outputs": [
        {
          "output_type": "execute_result",
          "data": {
            "text/plain": [
              "<matplotlib.collections.PathCollection at 0x7f62bec6e150>"
            ]
          },
          "metadata": {},
          "execution_count": 6
        },
        {
          "output_type": "display_data",
          "data": {
            "text/plain": [
              "<Figure size 432x288 with 1 Axes>"
            ],
            "image/png": "[encoded data removed]"
          },
          "metadata": {
            "needs_background": "light"
          }
        }
      ]
    }
  ]
}