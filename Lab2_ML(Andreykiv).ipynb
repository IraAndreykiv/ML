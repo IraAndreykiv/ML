{
  "nbformat": 4,
  "nbformat_minor": 0,
  "metadata": {
    "colab": {
      "name": "Lab2 ML(Andreykiv).ipynb",
      "provenance": [],
      "collapsed_sections": [],
      "toc_visible": true,
      "authorship_tag": "ABX9TyN8sDdNXvzNFZZnmqbDQnd9",
      "include_colab_link": true
    },
    "kernelspec": {
      "name": "python3",
      "display_name": "Python 3"
    },
    "language_info": {
      "name": "python"
    }
  },
  "cells": [
    {
      "cell_type": "markdown",
      "metadata": {
        "id": "view-in-github",
        "colab_type": "text"
      },
      "source": [
        "<a href=\"https://colab.research.google.com/github/IraAndreykiv/ML/blob/main/Lab2_ML(Andreykiv).ipynb\" target=\"_parent\"><img src=\"https://colab.research.google.com/assets/colab-badge.svg\" alt=\"Open In Colab\"/></a>"
      ]
    },
    {
      "cell_type": "code",
      "execution_count": null,
      "metadata": {
        "id": "GQr_2wVhbhNU"
      },
      "outputs": [],
      "source": [
        "import random\n",
        "import numpy as np\n",
        "import time"
      ]
    },
    {
      "cell_type": "code",
      "source": [
        "matrix1 = [[random.randint(0, 1) for _ in range(100)] for _ in range(100)]\n",
        "matrix2 = [[random.randint(0, 1) for _ in range(100)] for _ in range(100)]\n",
        "matrix = [[random.randint(0, 1) for _ in range(100)] for _ in range(100)]\n",
        "vector1 = [random.randint(0, 1) for _ in range(100)]\n",
        "vector2 = [random.randint(0, 1) for _ in range(100)]\n",
        "vector = [random.randint(0, 1) for _ in range(100)]"
      ],
      "metadata": {
        "id": "ikkX3IpViEpD"
      },
      "execution_count": null,
      "outputs": []
    },
    {
      "cell_type": "code",
      "source": [
        "def MatrixByMatrix(matrix1, matrix2):\n",
        "  return [[sum(matrix1[i][k] * matrix2[k][j]\n",
        "   for i in range(len(matrix1)))\n",
        "     for j in range(len(matrix2))]\n",
        "         for k in range(len(matrix2[0]))]"
      ],
      "metadata": {
        "id": "yxKE9yahkNgg"
      },
      "execution_count": null,
      "outputs": []
    },
    {
      "cell_type": "code",
      "source": [
        "matrix1 = np.array( [[random.randint(0, 1) for _ in range(100)] for _ in range(100)] )\n",
        "matrix2 = np.array( [[random.randint(0, 1) for _ in range(100)] for _ in range(100)] )\n",
        "matrix1 @ matrix2"
      ],
      "metadata": {
        "colab": {
          "base_uri": "https://localhost:8080/"
        },
        "id": "kAsP3CZPkOaw",
        "outputId": "066b57bc-a3cf-4302-cb50-4dc5bfe349fa"
      },
      "execution_count": null,
      "outputs": [
        {
          "output_type": "execute_result",
          "data": {
            "text/plain": [
              "array([[30, 28, 27, ..., 24, 33, 29],\n",
              "       [24, 18, 22, ..., 16, 22, 21],\n",
              "       [26, 26, 28, ..., 19, 29, 28],\n",
              "       ...,\n",
              "       [26, 21, 29, ..., 23, 22, 29],\n",
              "       [21, 24, 26, ..., 18, 23, 24],\n",
              "       [27, 28, 30, ..., 26, 28, 30]])"
            ]
          },
          "metadata": {},
          "execution_count": 9
        }
      ]
    },
    {
      "cell_type": "code",
      "source": [
        "start_time = time.time()\n",
        "MatrixByMatrix(matrix1, matrix2)\n",
        "print(\"%s seconds\" % (time.time() - start_time))"
      ],
      "metadata": {
        "colab": {
          "base_uri": "https://localhost:8080/"
        },
        "id": "mWSf8YdIkRN-",
        "outputId": "18ffe4d3-2469-4227-95c0-8e2434663395"
      },
      "execution_count": null,
      "outputs": [
        {
          "output_type": "stream",
          "name": "stdout",
          "text": [
            "0.6673345565795898 seconds\n"
          ]
        }
      ]
    },
    {
      "cell_type": "code",
      "source": [
        "start_time = time.time()\n",
        "matrix1 = np.array( [[random.randint(0, 1) for _ in range(100)] for _ in range(100)] )\n",
        "matrix2 = np.array( [[random.randint(0, 1) for _ in range(100)] for _ in range(100)] )\n",
        "matrix1 @ matrix2\n",
        "print(\"%s seconds\" % (time.time() - start_time))"
      ],
      "metadata": {
        "colab": {
          "base_uri": "https://localhost:8080/"
        },
        "id": "o9kEnOTqkTon",
        "outputId": "02fa07a3-98aa-4602-f394-3d675f317e22"
      },
      "execution_count": null,
      "outputs": [
        {
          "output_type": "stream",
          "name": "stdout",
          "text": [
            "0.03977775573730469 seconds\n"
          ]
        }
      ]
    },
    {
      "cell_type": "code",
      "source": [
        "def MatrixByVector(matrix1, vector):\n",
        "    result = []\n",
        "    for i in range(len(matrix1[0])): \n",
        "        total = 0\n",
        "        for j in range(len(vector)): \n",
        "            total +=  matrix1[j][i] * vector[j]\n",
        "        result.append(total)\n",
        "    return result"
      ],
      "metadata": {
        "id": "BQxABdW1oW4H"
      },
      "execution_count": null,
      "outputs": []
    },
    {
      "cell_type": "code",
      "source": [
        "matrix1 = np.array( [[random.randint(0, 1) for _ in range(100)] for _ in range(100)] )\n",
        "vector = np.array([random.randint(0, 1) for _ in range(100)])\n",
        "matrix1 @ vector"
      ],
      "metadata": {
        "colab": {
          "base_uri": "https://localhost:8080/"
        },
        "id": "2ShB2YTCoaan",
        "outputId": "1682290c-f0d6-4f07-8e8f-627a0092e1be"
      },
      "execution_count": null,
      "outputs": [
        {
          "output_type": "execute_result",
          "data": {
            "text/plain": [
              "array([21, 33, 31, 27, 29, 19, 26, 21, 29, 26, 26, 25, 26, 24, 24, 26, 27,\n",
              "       30, 26, 24, 25, 24, 27, 25, 18, 24, 27, 28, 32, 33, 29, 27, 28, 24,\n",
              "       24, 25, 25, 28, 20, 23, 24, 24, 27, 28, 25, 29, 25, 25, 33, 30, 22,\n",
              "       29, 31, 25, 27, 22, 20, 27, 24, 36, 31, 30, 22, 25, 28, 23, 24, 22,\n",
              "       26, 26, 28, 25, 27, 30, 30, 27, 22, 36, 30, 28, 25, 28, 33, 28, 30,\n",
              "       29, 30, 29, 25, 30, 30, 34, 25, 31, 26, 29, 23, 23, 22, 29])"
            ]
          },
          "metadata": {},
          "execution_count": 13
        }
      ]
    },
    {
      "cell_type": "code",
      "source": [
        "start_time = time.time()\n",
        "MatrixByVector(matrix1, vector)\n",
        "print(\"%s seconds\" % (time.time() - start_time))"
      ],
      "metadata": {
        "colab": {
          "base_uri": "https://localhost:8080/"
        },
        "id": "e0mq2MXcock-",
        "outputId": "1536c3de-0a22-46a5-c1c4-661f85b41fcf"
      },
      "execution_count": null,
      "outputs": [
        {
          "output_type": "stream",
          "name": "stdout",
          "text": [
            "0.008498907089233398 seconds\n"
          ]
        }
      ]
    },
    {
      "cell_type": "code",
      "source": [
        "start_time = time.time()\n",
        "matrix1 = np.array( [[random.randint(0, 1) for _ in range(100)] for _ in range(100)] )\n",
        "vector = np.array([random.randint(0, 1) for _ in range(100)])\n",
        "matrix1 @ vector\n",
        "print(\"%s seconds\" % (time.time() - start_time))"
      ],
      "metadata": {
        "colab": {
          "base_uri": "https://localhost:8080/"
        },
        "id": "i7JFhe86ofDF",
        "outputId": "20df507e-107f-469e-b60d-b9602e6b790f"
      },
      "execution_count": null,
      "outputs": [
        {
          "output_type": "stream",
          "name": "stdout",
          "text": [
            "0.014772653579711914 seconds\n"
          ]
        }
      ]
    },
    {
      "cell_type": "code",
      "source": [
        "def VectorByMatrix(vector, matrix):\n",
        "    result = [0 for i in range(len(vector))]\n",
        "    for i in range(len(matrix)):\n",
        "        for j in range(len(matrix[0])):\n",
        "            result[i] += matrix[j][i] * vector[j]\n",
        "    return result"
      ],
      "metadata": {
        "id": "BzelpAonohAw"
      },
      "execution_count": null,
      "outputs": []
    },
    {
      "cell_type": "code",
      "source": [
        "matrix = np.array([[random.randint(0, 1) for _ in range(100)] for _ in range(100)])\n",
        "vector = np.array([random.randint(0, 1) for _ in range(100)])\n",
        "vector @ matrix"
      ],
      "metadata": {
        "colab": {
          "base_uri": "https://localhost:8080/"
        },
        "id": "RsqLsDKzoi8f",
        "outputId": "660cda52-05e9-4294-c1a0-97771c7888af"
      },
      "execution_count": null,
      "outputs": [
        {
          "output_type": "execute_result",
          "data": {
            "text/plain": [
              "array([25, 25, 23, 17, 19, 25, 25, 19, 21, 29, 18, 27, 26, 23, 19, 15, 27,\n",
              "       30, 24, 28, 25, 25, 30, 24, 26, 31, 25, 25, 18, 22, 29, 24, 23, 20,\n",
              "       22, 24, 27, 19, 23, 27, 18, 24, 31, 22, 21, 23, 20, 26, 23, 22, 18,\n",
              "       20, 22, 26, 25, 29, 26, 23, 20, 28, 28, 23, 30, 20, 26, 22, 26, 18,\n",
              "       23, 24, 27, 17, 26, 25, 31, 28, 31, 20, 19, 27, 25, 25, 21, 22, 24,\n",
              "       21, 24, 30, 23, 25, 29, 25, 24, 29, 20, 28, 22, 23, 24, 21])"
            ]
          },
          "metadata": {},
          "execution_count": 17
        }
      ]
    },
    {
      "cell_type": "code",
      "source": [
        "start_time = time.time()\n",
        "VectorByMatrix(vector, matrix)\n",
        "print(\"%s seconds\" % (time.time() - start_time))"
      ],
      "metadata": {
        "colab": {
          "base_uri": "https://localhost:8080/"
        },
        "id": "nL6oskqrokvi",
        "outputId": "cbd34e39-49cf-4f0f-e347-f1ffed946a77"
      },
      "execution_count": null,
      "outputs": [
        {
          "output_type": "stream",
          "name": "stdout",
          "text": [
            "0.008708000183105469 seconds\n"
          ]
        }
      ]
    },
    {
      "cell_type": "code",
      "source": [
        "start_time = time.time()\n",
        "matrix = np.array([[random.randint(0, 1) for _ in range(100)] for _ in range(100)])\n",
        "vector = np.array([random.randint(0, 1) for _ in range(100)])\n",
        "vector @ matrix\n",
        "print(\"%s seconds\" % (time.time() - start_time))"
      ],
      "metadata": {
        "colab": {
          "base_uri": "https://localhost:8080/"
        },
        "id": "0roS3M0iomq5",
        "outputId": "17e87a64-f7eb-4530-b6ad-b41a24b134e1"
      },
      "execution_count": null,
      "outputs": [
        {
          "output_type": "stream",
          "name": "stdout",
          "text": [
            "0.018584489822387695 seconds\n"
          ]
        }
      ]
    },
    {
      "cell_type": "code",
      "source": [
        "def VectorByVector(vector1, vector2):\n",
        "  total = [0]\n",
        "  for i in range(len(vector1)):\n",
        "    for j in range(len(vector2)):\n",
        "      total = sum(vector1 * vector2)\n",
        "      return total"
      ],
      "metadata": {
        "id": "mM6uF5SBoof4"
      },
      "execution_count": null,
      "outputs": []
    },
    {
      "cell_type": "code",
      "source": [
        "vector1 = np.array([random.randint(0, 1) for _ in range(100)])\n",
        "vector2 = np.array([random.randint(0, 1) for _ in range(100)])\n",
        "vector1 @ vector2"
      ],
      "metadata": {
        "colab": {
          "base_uri": "https://localhost:8080/"
        },
        "id": "4kQgmYOIoqZN",
        "outputId": "e8e131cd-32d9-4b73-ee1a-0c2d84edeb15"
      },
      "execution_count": null,
      "outputs": [
        {
          "output_type": "execute_result",
          "data": {
            "text/plain": [
              "22"
            ]
          },
          "metadata": {},
          "execution_count": 21
        }
      ]
    },
    {
      "cell_type": "code",
      "source": [
        "start_time = time.time()\n",
        "VectorByVector(vector1, vector2)\n",
        "print(\"%s seconds\" % (time.time() - start_time))"
      ],
      "metadata": {
        "colab": {
          "base_uri": "https://localhost:8080/"
        },
        "id": "l-1Fy_RposfH",
        "outputId": "bc784884-19cb-4afe-8de6-1bc081a29ac8"
      },
      "execution_count": null,
      "outputs": [
        {
          "output_type": "stream",
          "name": "stdout",
          "text": [
            "0.00017976760864257812 seconds\n"
          ]
        }
      ]
    },
    {
      "cell_type": "code",
      "source": [
        "start_time = time.time()\n",
        "vector1 = np.array([random.randint(0, 1) for _ in range(100)])\n",
        "vector2 = np.array([random.randint(0, 1) for _ in range(100)])\n",
        "vector1 @ vector2\n",
        "print(\"%s seconds\" % (time.time() - start_time))"
      ],
      "metadata": {
        "colab": {
          "base_uri": "https://localhost:8080/"
        },
        "id": "J-tiPewRouRC",
        "outputId": "a528b220-9de1-4a68-de14-ed0975038656"
      },
      "execution_count": null,
      "outputs": [
        {
          "output_type": "stream",
          "name": "stdout",
          "text": [
            "0.002177715301513672 seconds\n"
          ]
        }
      ]
    },
    {
      "cell_type": "code",
      "source": [
        "import random\n",
        "import unittest"
      ],
      "metadata": {
        "id": "aoxI9KvZp01Y"
      },
      "execution_count": null,
      "outputs": []
    },
    {
      "cell_type": "code",
      "source": [
        "class Test(unittest.TestCase):\n",
        "    def test_multiply_Matrix_By_Matrix(self):\n",
        "        matrix1 = [[random.randint(0, 1) for _ in range(100)] for _ in range(100)]\n",
        "        matrix2 = [[random.randint(0, 1) for _ in range(100)] for _ in range(100)]\n",
        "        self.assertEqual(MatrixByMatrix(matrix1, matrix2), matrix1 @ matrix2(matrix1, matrix2))"
      ],
      "metadata": {
        "id": "BanFz537p4-9"
      },
      "execution_count": null,
      "outputs": []
    },
    {
      "cell_type": "code",
      "source": [
        "def test_multiply_Vector_By_Matrix(self):\n",
        "        matrix = [[random.randint(0, 1) for _ in range(100)] for _ in range(100)]\n",
        "        vector = [random.randint(0, 1) for _ in range(100)]\n",
        "        self.assertEqual(VectorByMatrix(matrix, vector), vector @ matrix(matrix, vector))"
      ],
      "metadata": {
        "id": "v48MQecpsQ5j"
      },
      "execution_count": null,
      "outputs": []
    },
    {
      "cell_type": "code",
      "source": [
        "def test_multiply_Vector_By_Matrix(self):\n",
        "        vec = [random.randint(0, 1) for _ in range(100)]\n",
        "        mat = [[random.randint(0, 1) for _ in range(100)] for _ in range(100)]\n",
        "        self.assertEqual(VectorByMatrix(vector, matrix), vector @ matrix (vector, matrix))"
      ],
      "metadata": {
        "id": "qaOUfFxQtAKn"
      },
      "execution_count": null,
      "outputs": []
    },
    {
      "cell_type": "code",
      "source": [
        "def test_multiply_Vector_By_Vector(self):\n",
        "        vec1 = [random.randint(0, 1) for _ in range(100)]\n",
        "        vec2 = [random.randint(0, 1) for _ in range(100)]\n",
        "        self.assertEqual(VectorByVector(vector1, vector2), vector1 @ vector2(vec1, vec2))"
      ],
      "metadata": {
        "id": "RhGsX8Z0tgeu"
      },
      "execution_count": null,
      "outputs": []
    }
  ]
}